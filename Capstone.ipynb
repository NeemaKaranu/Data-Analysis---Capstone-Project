{
  "nbformat": 4,
  "nbformat_minor": 0,
  "metadata": {
    "colab": {
      "provenance": [],
      "cell_execution_strategy": "setup"
    },
    "kernelspec": {
      "name": "python3",
      "display_name": "Python 3"
    },
    "language_info": {
      "name": "python"
    }
  },
  "cells": [
    {
      "cell_type": "markdown",
      "source": [
        "#CAPSTONE PROJECT\n",
        "\n",
        "This project is based on Edtech - College tuition, diversity and pay."
      ],
      "metadata": {
        "id": "RpqzFSZDmdBT"
      }
    },
    {
      "cell_type": "markdown",
      "source": [
        "Creating the environment."
      ],
      "metadata": {
        "id": "0rtr8eV7mpAx"
      }
    },
    {
      "cell_type": "code",
      "source": [
        "%load_ext sql"
      ],
      "metadata": {
        "id": "2bHerOG_bVzr"
      },
      "execution_count": 1,
      "outputs": []
    },
    {
      "cell_type": "code",
      "source": [
        "%sql sqlite:///test_db"
      ],
      "metadata": {
        "id": "aouk5Kbfbqdh"
      },
      "execution_count": 2,
      "outputs": []
    },
    {
      "cell_type": "markdown",
      "source": [
        "Creating and populating the tables."
      ],
      "metadata": {
        "id": "37F5RER7msRx"
      }
    },
    {
      "cell_type": "code",
      "execution_count": 3,
      "metadata": {
        "colab": {
          "base_uri": "https://localhost:8080/"
        },
        "id": "efN3H2hv6PgN",
        "outputId": "dfbae57e-25db-4019-c461-b86ba665d5d4"
      },
      "outputs": [
        {
          "output_type": "stream",
          "name": "stdout",
          "text": [
            " * sqlite:///test_db\n",
            "Done.\n"
          ]
        },
        {
          "output_type": "execute_result",
          "data": {
            "text/plain": [
              "[]"
            ]
          },
          "metadata": {},
          "execution_count": 3
        }
      ],
      "source": [
        "%%sql CREATE TABLE university_details(\n",
        "    id_number INT,\n",
        "    university_name VARCHAR(40),\n",
        "    state VARCHAR(40),\n",
        "    PRIMARY KEY(id_number)\n",
        ");"
      ]
    },
    {
      "cell_type": "code",
      "source": [
        "%%sql INSERT INTO university_details (id_number, university_name, state) ValueS\n",
        "(011, 'Aaniiih Nakoda College', 'Montana'),\n",
        "(012, 'Abilene Christian University', 'Texas'),\n",
        "(013, 'Abraham Baldwin Agricultural College','Georgia'),\n",
        "(014, 'Academy College','Minnesota'),\n",
        "(015, 'Academy of Art University', 'California'),\n",
        "(016, 'Adams State University', 'Colorado');"
      ],
      "metadata": {
        "colab": {
          "base_uri": "https://localhost:8080/"
        },
        "id": "tCzrZSsfpLX6",
        "outputId": "73cf30ab-a5e4-4f53-e212-1abbceaf77d7"
      },
      "execution_count": 4,
      "outputs": [
        {
          "output_type": "stream",
          "name": "stdout",
          "text": [
            " * sqlite:///test_db\n",
            "6 rows affected.\n"
          ]
        },
        {
          "output_type": "execute_result",
          "data": {
            "text/plain": [
              "[]"
            ]
          },
          "metadata": {},
          "execution_count": 4
        }
      ]
    },
    {
      "cell_type": "code",
      "source": [
        "%%sql CREATE TABLE tuition_cost(\n",
        "    id_number INT,\n",
        "    state_code VARCHAR (30),\n",
        "    type VARCHAR (40),\n",
        "    degree_length VARCHAR (10),\n",
        "    room_and_board DOUBLE,\n",
        "    in_state_tuition DOUBLE,\n",
        "    in_state_total DOUBLE,\n",
        "    out_of_state_tuition DOUBLE,\n",
        "    out_of_state_total DOUBLE,\n",
        "    PRIMARY KEY(id_number),\n",
        "    FOREIGN KEY (id_number) REFERENCES university_details(id_number)\n",
        "\n",
        ");"
      ],
      "metadata": {
        "colab": {
          "base_uri": "https://localhost:8080/"
        },
        "id": "j5J_i-zH88rb",
        "outputId": "9ee29196-bd04-49e6-9c9e-66f8f931f28d"
      },
      "execution_count": 5,
      "outputs": [
        {
          "output_type": "stream",
          "name": "stdout",
          "text": [
            " * sqlite:///test_db\n",
            "Done.\n"
          ]
        },
        {
          "output_type": "execute_result",
          "data": {
            "text/plain": [
              "[]"
            ]
          },
          "metadata": {},
          "execution_count": 5
        }
      ]
    },
    {
      "cell_type": "code",
      "source": [
        "%%sql INSERT INTO tuition_cost (id_number, state_code, type, degree_length, room_and_board, in_state_tuition, in_state_total, out_of_state_tuition, out_of_state_total)\n",
        "VALUES\n",
        "    (1, 'MT', 'Public', 2, NULL, 2380, 2380, 2380, 2380),\n",
        "    (2, 'TX', 'Private', 4, 10350, 34850, 45200, 34850, 45200),\n",
        "    (3, 'GA', 'Public', 2, 8474, 4128, 12602, 12550, 21024),\n",
        "    (4, 'MN', 'For Profit', 2, NULL, 17661, 17661, 17661, 17661),\n",
        "    (5, 'CA', 'For Profit', 4, 16648, 27810, 44458, 27810, 44458),\n",
        "    (6, 'CO', 'Public', 4, 8782, 9440, 18222, 20456, 29238),\n",
        "    (7, 'NY', 'Private', 4, 16030, 38660, 54690, 38660, 54690),\n",
        "    (8, 'NY', 'Public', 2, 11660, 5375, 17035, 9935, 21595),\n",
        "    (9, 'MI', 'Private', 4, 11318, 37087, 48405, 37087, 48405),\n",
        "    (10, 'VA', 'For Profit', 2, NULL, 13680, 13680, 13680, 13680);"
      ],
      "metadata": {
        "colab": {
          "base_uri": "https://localhost:8080/"
        },
        "id": "UjZjs9Z6nG5Z",
        "outputId": "195f2052-918c-4f16-e21f-45a372494cad"
      },
      "execution_count": 6,
      "outputs": [
        {
          "output_type": "stream",
          "name": "stdout",
          "text": [
            " * sqlite:///test_db\n",
            "10 rows affected.\n"
          ]
        },
        {
          "output_type": "execute_result",
          "data": {
            "text/plain": [
              "[]"
            ]
          },
          "metadata": {},
          "execution_count": 6
        }
      ]
    },
    {
      "cell_type": "code",
      "source": [
        "%%sql CREATE TABLE tuition_income(\n",
        "    id_number INT,\n",
        "    total_price DOUBLE,\n",
        "    year DOUBLE,\n",
        "    campus VARCHAR (40),\n",
        "    net_cost DOUBLE,\n",
        "    income_lvl VARCHAR (30),\n",
        "    PRIMARY KEY(id_number,year),\n",
        "     FOREIGN KEY (id_number) REFERENCES university_details(id_number)\n",
        ");"
      ],
      "metadata": {
        "colab": {
          "base_uri": "https://localhost:8080/"
        },
        "id": "8BEwwJ0CCe-m",
        "outputId": "ef3fdad2-769d-4e25-eae0-4430436c5be6"
      },
      "execution_count": 7,
      "outputs": [
        {
          "output_type": "stream",
          "name": "stdout",
          "text": [
            " * sqlite:///test_db\n",
            "Done.\n"
          ]
        },
        {
          "output_type": "execute_result",
          "data": {
            "text/plain": [
              "[]"
            ]
          },
          "metadata": {},
          "execution_count": 7
        }
      ]
    },
    {
      "cell_type": "code",
      "source": [
        "%%sql INSERT INTO tuition_income (id_number, total_price, year, campus, net_cost, income_lvl) VALUES\n",
        "    (001, 20174, 2016, 'On Campus', 11475, '0 to 30,000'),\n",
        "    (002, 22413, 2017, 'Off Campus', 0, '0 to 30,000'),\n",
        "    (003, 39475, 2017, 'Off Campus', 0, '0 to 30,000'),\n",
        "    (004, 14622, 2016, 'Off Campus', 2271, '0 to 30,000'),\n",
        "    (005, 20830, 2018, 'Off Campus', 0, 'Over 110,000');"
      ],
      "metadata": {
        "colab": {
          "base_uri": "https://localhost:8080/"
        },
        "id": "Di689PHnDbiI",
        "outputId": "d1479233-c913-4697-b91a-1f598658f4c4"
      },
      "execution_count": 8,
      "outputs": [
        {
          "output_type": "stream",
          "name": "stdout",
          "text": [
            " * sqlite:///test_db\n",
            "5 rows affected.\n"
          ]
        },
        {
          "output_type": "execute_result",
          "data": {
            "text/plain": [
              "[]"
            ]
          },
          "metadata": {},
          "execution_count": 8
        }
      ]
    },
    {
      "cell_type": "code",
      "source": [
        "%%sql CREATE TABLE salary_potential(\n",
        "    id_number INT,\n",
        "    rank DOUBLE,\n",
        "    early_career_pay DOUBLE,\n",
        "    mid_career_pay DOUBLE,\n",
        "    make_world_better_percent DOUBLE,\n",
        "    stem_percent DOUBLE,\n",
        "    PRIMARY KEY(id_number),\n",
        "    FOREIGN KEY (id_number) REFERENCES university_details(id_number)\n",
        ");"
      ],
      "metadata": {
        "colab": {
          "base_uri": "https://localhost:8080/"
        },
        "id": "5yq4Zg0ZDtxl",
        "outputId": "a87d5d1c-b1a2-47fc-d0ae-96c5744fea11"
      },
      "execution_count": 9,
      "outputs": [
        {
          "output_type": "stream",
          "name": "stdout",
          "text": [
            " * sqlite:///test_db\n",
            "Done.\n"
          ]
        },
        {
          "output_type": "execute_result",
          "data": {
            "text/plain": [
              "[]"
            ]
          },
          "metadata": {},
          "execution_count": 9
        }
      ]
    },
    {
      "cell_type": "code",
      "source": [
        "%%sql INSERT INTO salary_potential (id_number, rank, early_career_pay, mid_career_pay, make_world_better_percent, stem_percent)\n",
        "VALUES\n",
        "    (011, 1, 54400, 104500, 51, 31),\n",
        "    (012, 2, 57500, 103900, 59, 45),\n",
        "    (013, 3, 52300, 97400, 50, 15),\n",
        "    (014, 4, 54500, 93500, 61, 30),\n",
        "    (015, 5, 48400, 90500, 52, 3),\n",
        "    (016, 6, 46600, 89100, 53, 12),\n",
        "    (017, 7, 49100, 88300, 48, 27),\n",
        "    (018, 8, 48600, 87200, 57, 17);"
      ],
      "metadata": {
        "colab": {
          "base_uri": "https://localhost:8080/"
        },
        "id": "cuH5zjZaEYpZ",
        "outputId": "74837968-ac77-4651-d0be-fc39d0b652b3"
      },
      "execution_count": 10,
      "outputs": [
        {
          "output_type": "stream",
          "name": "stdout",
          "text": [
            " * sqlite:///test_db\n",
            "8 rows affected.\n"
          ]
        },
        {
          "output_type": "execute_result",
          "data": {
            "text/plain": [
              "[]"
            ]
          },
          "metadata": {},
          "execution_count": 10
        }
      ]
    },
    {
      "cell_type": "code",
      "source": [
        "%%sql CREATE TABLE historical_tuition(\n",
        "    type VARCHAR (40),\n",
        "    year VARCHAR (30),\n",
        "    tuition_type VARCHAR (30),\n",
        "    tuition_cost DOUBLE,\n",
        "    PRIMARY KEY(type,year),\n",
        "     FOREIGN KEY (type) REFERENCES tuition_cost(type)\n",
        ");"
      ],
      "metadata": {
        "colab": {
          "base_uri": "https://localhost:8080/"
        },
        "id": "9C8_H6tVFDAY",
        "outputId": "5b7b7ea5-cf76-4b97-f3b3-8fad7d7729d3"
      },
      "execution_count": 11,
      "outputs": [
        {
          "output_type": "stream",
          "name": "stdout",
          "text": [
            " * sqlite:///test_db\n",
            "Done.\n"
          ]
        },
        {
          "output_type": "execute_result",
          "data": {
            "text/plain": [
              "[]"
            ]
          },
          "metadata": {},
          "execution_count": 11
        }
      ]
    },
    {
      "cell_type": "code",
      "source": [
        "%%sql INSERT INTO historical_tuition (type, year, tuition_type, tuition_cost) VALUES\n",
        "('All Institutions','1985-86','All Constant',10893),\n",
        "('Public','1985-86','All Constant',7964),\n",
        "('Private','1985-86','All Constant',19812);\n"
      ],
      "metadata": {
        "colab": {
          "base_uri": "https://localhost:8080/"
        },
        "id": "CAEXSrKLFMl7",
        "outputId": "5ba6352a-67ee-47d7-cf3f-9b6370d7824f"
      },
      "execution_count": 12,
      "outputs": [
        {
          "output_type": "stream",
          "name": "stdout",
          "text": [
            " * sqlite:///test_db\n",
            "3 rows affected.\n"
          ]
        },
        {
          "output_type": "execute_result",
          "data": {
            "text/plain": [
              "[]"
            ]
          },
          "metadata": {},
          "execution_count": 12
        }
      ]
    },
    {
      "cell_type": "code",
      "source": [
        "%%sql CREATE TABLE diversity_school(\n",
        "    total_enrollment DOUBLE,\n",
        "    id_number INT,\n",
        "    category VARCHAR(25),\n",
        "    enrollment DOUBLE,\n",
        "    PRIMARY KEY(id_number,category),\n",
        "    FOREIGN KEY (id_number) REFERENCES university_details(id_number)\n",
        ");"
      ],
      "metadata": {
        "colab": {
          "base_uri": "https://localhost:8080/"
        },
        "id": "X3pdzruwGLez",
        "outputId": "67af5942-5bc5-405a-b3ab-a2ae584c17e8"
      },
      "execution_count": 13,
      "outputs": [
        {
          "output_type": "stream",
          "name": "stdout",
          "text": [
            " * sqlite:///test_db\n",
            "Done.\n"
          ]
        },
        {
          "output_type": "execute_result",
          "data": {
            "text/plain": [
              "[]"
            ]
          },
          "metadata": {},
          "execution_count": 13
        }
      ]
    },
    {
      "cell_type": "code",
      "source": [
        "%%sql INSERT INTO diversity_school (total_enrollment, id_number, category, enrollment) VALUES\n",
        "(195059, 1, 'Women', 134722),\n",
        "(91179, 2, 'Women', 53476),\n",
        "(81459, 3, 'Asian', 856),\n",
        "(69395, 4, 'Black', 12094),\n",
        "(66046, 5, 'Hispanic', 44870);"
      ],
      "metadata": {
        "colab": {
          "base_uri": "https://localhost:8080/"
        },
        "id": "4LyPOJodGGHo",
        "outputId": "767a3dab-334f-456b-c1d8-ce002a16a26a"
      },
      "execution_count": 17,
      "outputs": [
        {
          "output_type": "stream",
          "name": "stdout",
          "text": [
            " * sqlite:///test_db\n",
            "5 rows affected.\n"
          ]
        },
        {
          "output_type": "execute_result",
          "data": {
            "text/plain": [
              "[]"
            ]
          },
          "metadata": {},
          "execution_count": 17
        }
      ]
    }
  ]
}